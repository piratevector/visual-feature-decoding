{
 "cells": [
  {
   "cell_type": "code",
   "execution_count": null,
   "id": "6ed13d18-51fb-4eb7-adec-e3940a277870",
   "metadata": {},
   "outputs": [],
   "source": [
    "# Natural Scenes Dataset"
   ]
  },
  {
   "cell_type": "code",
   "execution_count": 13,
   "id": "9c2d03ee-bfe8-4e61-a9d4-1f8cdb625b5a",
   "metadata": {
    "tags": []
   },
   "outputs": [
    {
     "data": {
      "text/plain": [
       "dict_keys(['info', 'licenses', 'images', 'annotations', 'categories'])"
      ]
     },
     "execution_count": 13,
     "metadata": {},
     "output_type": "execute_result"
    }
   ],
   "source": [
    "import urllib.request\n",
    "import zipfile\n",
    "import json\n",
    "\n",
    "# urllib.request.urlretrieve('http://images.cocodataset.org/annotations/annotations_trainval2017.zip', 'coco_annotations_2017.zip')\n",
    "\n",
    "# with zipfile.ZipFile('coco_annotations_2017.zip', 'r') as zip_ref:\n",
    "#     zip_ref.extractall()\n",
    "    \n",
    "with open('./annotations/instances_train2017.json') as json_data:\n",
    "  file_contents = json_data.read()\n",
    "\n",
    "data = json.loads(file_contents)\n",
    "data.keys()"
   ]
  },
  {
   "cell_type": "code",
   "execution_count": 63,
   "id": "43e37283-f9b1-4610-b694-abf9c4bad5dc",
   "metadata": {
    "tags": []
   },
   "outputs": [],
   "source": [
    "import pandas as pd\n",
    "ids_list = [data['annotations'][i]['id'] for i in range(len(data['annotations']))]\n",
    "image_ids_list = [data['annotations'][i]['image_id'] for i in range(len(data['annotations']))]\n",
    "# counts = pd.Series(ids_list).value_counts()\n",
    "# counts[counts > 1]\n",
    "# ids_list.sort()\n",
    "# ids_list[-70000:-6000]\n",
    "# len(ids_list)"
   ]
  },
  {
   "cell_type": "code",
   "execution_count": 81,
   "id": "79745188-d89d-4053-a21e-e8769ddf539d",
   "metadata": {
    "tags": []
   },
   "outputs": [],
   "source": [
    "# pd.Series(image_ids_list).hist()"
   ]
  },
  {
   "cell_type": "code",
   "execution_count": 71,
   "id": "ab28c603-f95f-4424-8451-e684c22e29bf",
   "metadata": {
    "tags": []
   },
   "outputs": [],
   "source": [
    "category_id_to_text = {data['categories'][i]['id'] : data['categories'][i]['name'] for i in range(80)}"
   ]
  },
  {
   "cell_type": "code",
   "execution_count": 77,
   "id": "5941eb4e-902c-4f5b-b638-3f472e982a28",
   "metadata": {
    "tags": []
   },
   "outputs": [],
   "source": [
    "image_labels_dict_numeric = {image_id : [] for image_id in image_ids_list}\n",
    "image_labels_dict_text = {image_id : [] for image_id in image_ids_list}\n",
    "\n",
    "for item in data['annotations']:\n",
    "    image_labels_dict_numeric[item['image_id']].append(item['category_id'])\n",
    "    image_labels_dict_text[item['image_id']].append(category_id_to_text[item['category_id']])\n",
    "\n",
    "for dictionary in [image_labels_dict_numeric, image_labels_dict_text]:\n",
    "    for key,value in dictionary.items():\n",
    "        value = list(set(value))\n",
    "        value.sort()\n",
    "        dictionary[key] = value"
   ]
  },
  {
   "cell_type": "code",
   "execution_count": 82,
   "id": "b3c219eb-2a78-41ae-87fa-af95d238be90",
   "metadata": {
    "tags": []
   },
   "outputs": [],
   "source": [
    "# image_labels_dict_numeric"
   ]
  },
  {
   "cell_type": "code",
   "execution_count": 27,
   "id": "41f3c7e9-e7ce-4f65-90af-c6a2499be592",
   "metadata": {
    "tags": []
   },
   "outputs": [
    {
     "data": {
      "text/plain": [
       "{'segmentation': [[239.97,\n",
       "   260.24,\n",
       "   222.04,\n",
       "   270.49,\n",
       "   199.84,\n",
       "   253.41,\n",
       "   213.5,\n",
       "   227.79,\n",
       "   259.62,\n",
       "   200.46,\n",
       "   274.13,\n",
       "   202.17,\n",
       "   277.55,\n",
       "   210.71,\n",
       "   249.37,\n",
       "   253.41,\n",
       "   237.41,\n",
       "   264.51,\n",
       "   242.54,\n",
       "   261.95,\n",
       "   228.87,\n",
       "   271.34]],\n",
       " 'area': 2765.1486500000005,\n",
       " 'iscrowd': 0,\n",
       " 'image_id': 558840,\n",
       " 'bbox': [199.84, 200.46, 77.71, 70.88],\n",
       " 'category_id': 58,\n",
       " 'id': 156}"
      ]
     },
     "execution_count": 27,
     "metadata": {},
     "output_type": "execute_result"
    }
   ],
   "source": [
    "data['annotations'][0]"
   ]
  },
  {
   "cell_type": "code",
   "execution_count": 24,
   "id": "9cd9338f-9c78-4b35-8033-49958e43cd39",
   "metadata": {
    "tags": []
   },
   "outputs": [
    {
     "data": {
      "text/plain": [
       "156             1\n",
       "1270855         1\n",
       "1270949         1\n",
       "1270951         1\n",
       "1270953         1\n",
       "               ..\n",
       "97462           1\n",
       "97463           1\n",
       "97465           1\n",
       "97471           1\n",
       "900100095999    1\n",
       "Name: count, Length: 860001, dtype: int64"
      ]
     },
     "execution_count": 24,
     "metadata": {},
     "output_type": "execute_result"
    }
   ],
   "source": [
    "ids_list"
   ]
  }
]
}
