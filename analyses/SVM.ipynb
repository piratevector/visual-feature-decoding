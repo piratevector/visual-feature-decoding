{
 "cells": [
  {
   "cell_type": "code",
   "execution_count": 11,
   "id": "fa2a63cf-e05a-42e8-abf2-6f25fb724232",
   "metadata": {
    "tags": []
   },
   "outputs": [
    {
     "name": "stdout",
     "output_type": "stream",
     "text": [
      "The autoreload extension is already loaded. To reload it, use:\n",
      "  %reload_ext autoreload\n",
      "Collecting pycocotools\n",
      "  Obtaining dependency information for pycocotools from https://files.pythonhosted.org/packages/ba/64/0451cf41a00fd5ac4501de4ea0e395b7d909e09d665e56890b5d3809ae26/pycocotools-2.0.7-cp310-cp310-manylinux_2_17_x86_64.manylinux2014_x86_64.whl.metadata\n",
      "  Using cached pycocotools-2.0.7-cp310-cp310-manylinux_2_17_x86_64.manylinux2014_x86_64.whl.metadata (1.1 kB)\n",
      "Requirement already satisfied: matplotlib>=2.1.0 in /srv/conda/envs/notebook/lib/python3.10/site-packages (from pycocotools) (3.4.3)\n",
      "Requirement already satisfied: numpy in /srv/conda/envs/notebook/lib/python3.10/site-packages (from pycocotools) (1.24.4)\n",
      "Requirement already satisfied: cycler>=0.10 in /srv/conda/envs/notebook/lib/python3.10/site-packages (from matplotlib>=2.1.0->pycocotools) (0.11.0)\n",
      "Requirement already satisfied: kiwisolver>=1.0.1 in /srv/conda/envs/notebook/lib/python3.10/site-packages (from matplotlib>=2.1.0->pycocotools) (1.4.4)\n",
      "Requirement already satisfied: pillow>=6.2.0 in /srv/conda/envs/notebook/lib/python3.10/site-packages (from matplotlib>=2.1.0->pycocotools) (9.5.0)\n",
      "Requirement already satisfied: pyparsing>=2.2.1 in /srv/conda/envs/notebook/lib/python3.10/site-packages (from matplotlib>=2.1.0->pycocotools) (3.0.9)\n",
      "Requirement already satisfied: python-dateutil>=2.7 in /srv/conda/envs/notebook/lib/python3.10/site-packages (from matplotlib>=2.1.0->pycocotools) (2.8.2)\n",
      "Requirement already satisfied: six>=1.5 in /srv/conda/envs/notebook/lib/python3.10/site-packages (from python-dateutil>=2.7->matplotlib>=2.1.0->pycocotools) (1.16.0)\n",
      "Using cached pycocotools-2.0.7-cp310-cp310-manylinux_2_17_x86_64.manylinux2014_x86_64.whl (426 kB)\n",
      "Installing collected packages: pycocotools\n",
      "Successfully installed pycocotools-2.0.7\n"
     ]
    }
   ],
   "source": [
    "%load_ext autoreload\n",
    "%autoreload 2\n",
    "# !pip install pycocotools"
   ]
  },
  {
   "cell_type": "code",
   "execution_count": 12,
   "id": "75d90d4f-8b11-4b1c-ba6a-09260d69f10b",
   "metadata": {
    "tags": []
   },
   "outputs": [],
   "source": [
    "import numpy as np\n",
    "import pandas as pd\n",
    "import matplotlib as plt\n",
    "from sklearn.model_selection import LeaveOneOut, StratifiedKFold, KFold\n",
    "from sklearn import preprocessing, svm\n",
    "from sklearn.linear_model import SGDClassifier as SGDC\n",
    "from sklearn.multiclass import OneVsRestClassifier, OneVsOneClassifier\n",
    "from sklearn.svm import SVC\n",
    "from sklearn.naive_bayes import MultinomialNB\n",
    "from sklearn.metrics import confusion_matrix, ConfusionMatrixDisplay\n",
    "\n",
    "import os\n",
    "import os.path as op\n",
    "import glob\n",
    "import nibabel as nb\n",
    "import numpy as np\n",
    "import pandas as pd\n",
    "import h5py\n",
    "\n",
    "import matplotlib.pyplot as plt\n",
    "import matplotlib.image as mpimg\n",
    "from nilearn import plotting\n",
    "\n",
    "import urllib.request, zipfile\n",
    "# from pycocotools.coco import COCO\n",
    "\n",
    "# from nsd_access import NSDAccess\n",
    "\n",
    "%matplotlib inline"
   ]
  },
  {
   "cell_type": "code",
   "execution_count": 13,
   "id": "bed2fc1c-b4ed-4420-881d-159eab5fec69",
   "metadata": {},
   "outputs": [],
   "source": [
    "def load_aws_credentials(profile_name):\n",
    "    \"Returns (access_key, secred_key) from ~/.aws/credentials for the given profile.\"\n",
    "    import boto3\n",
    "    ses = boto3.Session(profile_name=profile_name)\n",
    "    creds = ses.get_credentials()\n",
    "    return (creds.access_key, creds.secret_key)\n",
    "\n",
    "from cloudpathlib import S3Path, S3Client\n",
    "from pathlib import Path\n",
    "\n",
    "# Set up our cache path:\n",
    "cache_path = Path('/home/jovyan/tmp/cache')\n",
    "if not cache_path.exists():\n",
    "    cache_path.mkdir()\n",
    "\n",
    "# Create the root S3Path for the NSD:\n",
    "nsd_base_path = S3Path(\n",
    "    's3://natural-scenes-dataset/',\n",
    "    client=S3Client(\n",
    "        no_sign_request=True,\n",
    "        local_cache_dir=cache_path))"
   ]
  },
  {
   "cell_type": "code",
   "execution_count": 15,
   "id": "751eb8df-90f0-4b0e-bb2d-575b107cb662",
   "metadata": {
    "tags": []
   },
   "outputs": [
    {
     "data": {
      "text/html": [
       "<div>\n",
       "<style scoped>\n",
       "    .dataframe tbody tr th:only-of-type {\n",
       "        vertical-align: middle;\n",
       "    }\n",
       "\n",
       "    .dataframe tbody tr th {\n",
       "        vertical-align: top;\n",
       "    }\n",
       "\n",
       "    .dataframe thead th {\n",
       "        text-align: right;\n",
       "    }\n",
       "</style>\n",
       "<table border=\"1\" class=\"dataframe\">\n",
       "  <thead>\n",
       "    <tr style=\"text-align: right;\">\n",
       "      <th></th>\n",
       "      <th>SUBJECT</th>\n",
       "      <th>SESSION</th>\n",
       "      <th>HEMISPHERE</th>\n",
       "      <th>TRIAL</th>\n",
       "      <th>BETAS</th>\n",
       "      <th>LABELS</th>\n",
       "      <th>COCOID</th>\n",
       "    </tr>\n",
       "  </thead>\n",
       "  <tbody>\n",
       "    <tr>\n",
       "      <th>0</th>\n",
       "      <td>1</td>\n",
       "      <td>1</td>\n",
       "      <td>lh</td>\n",
       "      <td>1</td>\n",
       "      <td>[305, 178, -3, 178, 67, -45, 90, 23, 220, 34, ...</td>\n",
       "      <td>animal</td>\n",
       "      <td>412922</td>\n",
       "    </tr>\n",
       "    <tr>\n",
       "      <th>5</th>\n",
       "      <td>1</td>\n",
       "      <td>1</td>\n",
       "      <td>lh</td>\n",
       "      <td>6</td>\n",
       "      <td>[-233, -169, -233, -296, -311, -309, -304, -32...</td>\n",
       "      <td>animal</td>\n",
       "      <td>129059</td>\n",
       "    </tr>\n",
       "    <tr>\n",
       "      <th>7</th>\n",
       "      <td>1</td>\n",
       "      <td>1</td>\n",
       "      <td>lh</td>\n",
       "      <td>8</td>\n",
       "      <td>[65, 45, -13, 20, -16, -42, -23, -57, 739, 619...</td>\n",
       "      <td>sports</td>\n",
       "      <td>481427</td>\n",
       "    </tr>\n",
       "    <tr>\n",
       "      <th>8</th>\n",
       "      <td>1</td>\n",
       "      <td>1</td>\n",
       "      <td>lh</td>\n",
       "      <td>9</td>\n",
       "      <td>[-52, -43, -130, -133, -206, -225, -246, -275,...</td>\n",
       "      <td>outdoor</td>\n",
       "      <td>169097</td>\n",
       "    </tr>\n",
       "    <tr>\n",
       "      <th>9</th>\n",
       "      <td>1</td>\n",
       "      <td>1</td>\n",
       "      <td>lh</td>\n",
       "      <td>10</td>\n",
       "      <td>[173, 214, 222, 75, 86, 179, 104, 148, 514, 28...</td>\n",
       "      <td>furniture</td>\n",
       "      <td>186500</td>\n",
       "    </tr>\n",
       "  </tbody>\n",
       "</table>\n",
       "</div>"
      ],
      "text/plain": [
       "  SUBJECT SESSION HEMISPHERE  TRIAL  \\\n",
       "0       1       1         lh      1   \n",
       "5       1       1         lh      6   \n",
       "7       1       1         lh      8   \n",
       "8       1       1         lh      9   \n",
       "9       1       1         lh     10   \n",
       "\n",
       "                                               BETAS     LABELS  COCOID  \n",
       "0  [305, 178, -3, 178, 67, -45, 90, 23, 220, 34, ...     animal  412922  \n",
       "5  [-233, -169, -233, -296, -311, -309, -304, -32...     animal  129059  \n",
       "7  [65, 45, -13, 20, -16, -42, -23, -57, 739, 619...     sports  481427  \n",
       "8  [-52, -43, -130, -133, -206, -225, -246, -275,...    outdoor  169097  \n",
       "9  [173, 214, 222, 75, 86, 179, 104, 148, 514, 28...  furniture  186500  "
      ]
     },
     "execution_count": 15,
     "metadata": {},
     "output_type": "execute_result"
    }
   ],
   "source": [
    "# Replace with your own data (see below for what it should look like)\n",
    "subj_DF = pd.read_pickle('/home/jovyan/visual-feature-decoding/analyses/df_neural_labels.pkl')\n",
    "subj_DF.head()\n",
    "\n",
    "subj_DF.LABELS = subj_DF.LABELS.apply(lambda x: '' if not x else x)\n",
    "subj_DF = subj_DF[subj_DF['LABELS'].map(len) == 1]\n",
    "subj_DF['LABELS'] = subj_DF['LABELS'].map(lambda x: x[0])\n",
    "\n",
    "subj_DF.head()"
   ]
  },
  {
   "cell_type": "code",
   "execution_count": 19,
   "id": "f2df7d77-b44e-4940-99b6-6409a0fc9796",
   "metadata": {
    "tags": []
   },
   "outputs": [
    {
     "data": {
      "text/plain": [
       "LABELS\n",
       "animal        617\n",
       "vehicle       352\n",
       "indoor        175\n",
       "food          149\n",
       "outdoor       112\n",
       "furniture     112\n",
       "appliance      47\n",
       "electronic     32\n",
       "accessory      26\n",
       "person         23\n",
       "sports         15\n",
       "kitchen         9\n",
       "Name: count, dtype: int64"
      ]
     },
     "execution_count": 19,
     "metadata": {},
     "output_type": "execute_result"
    }
   ],
   "source": [
    "subj_DF_lh['LABELS'].value_counts()"
   ]
  },
  {
   "cell_type": "code",
   "execution_count": 16,
   "id": "14b1e776-c070-4f1b-8bf0-6361b353f97f",
   "metadata": {
    "tags": []
   },
   "outputs": [],
   "source": [
    "from sklearn.preprocessing import MultiLabelBinarizer, LabelEncoder\n",
    "\n",
    "classes=['person', 'vehicle', 'outdoor', 'animal', 'accessory', 'sports','kitchen', 'food', 'furniture', 'electronic', 'appliance', 'indoor']\n",
    "label_encoder = LabelEncoder()\n",
    "label_encoder.fit(classes)\n",
    "\n",
    "subj_DF_lh = subj_DF[subj_DF['HEMISPHERE']=='lh']\n",
    "subj_DF_rh = subj_DF[subj_DF['HEMISPHERE']=='rh']\n",
    "\n",
    "X_lh = np.array(subj_DF_lh['BETAS'])\n",
    "X_rh = np.array(subj_DF_rh['BETAS'])\n",
    "\n",
    "y_lh = label_encoder.transform(subj_DF_lh.LABELS)\n",
    "y_rh = label_encoder.transform(subj_DF_rh.LABELS)"
   ]
  },
  {
   "cell_type": "code",
   "execution_count": 22,
   "id": "410fe3dc-c134-47bc-8277-de2d96fec81f",
   "metadata": {
    "tags": []
   },
   "outputs": [],
   "source": [
    "from statistics import mean\n",
    "from sklearn.utils import class_weight\n",
    "\n",
    "# Cross-validation (slow)\n",
    "\n",
    "def classify_SVM_crossval(X,y):\n",
    "    X = np.vstack(X)\n",
    "    kfold = StratifiedKFold(n_splits=5) #LeaveOneOut() #StratifiedKFold(n_splits=10)\n",
    "    scaler = preprocessing.MinMaxScaler()\n",
    "    X_scaled = scaler.fit_transform(X)\n",
    "    # clf = SGDC(warm_start=True)\n",
    "    clf = OneVsOneClassifier(SVC(class_weight='balanced')) #OneVsRestClassifier(MultinomialNB())#SVC())\n",
    "    # clf = SVC(class_weight='balanced')\n",
    "    \n",
    "    accuracy_all = []\n",
    "\n",
    "    for ind_train, ind_test in kfold.split(X, y):\n",
    "        \n",
    "        x_train_fold, x_test_fold = X_scaled[ind_train], X_scaled[ind_test]\n",
    "        y_train_fold, y_test_fold = y[ind_train], y[ind_test]\n",
    "        \n",
    "        # class_weights = class_weight.compute_class_weight(classes=np.arange(12), y=y_train_fold, class_weight=None)\n",
    "\n",
    "        clf.fit(x_train_fold, y_train_fold)#, classes=classes)\n",
    "        accuracy_all.append(clf.score(x_test_fold, y_test_fold))\n",
    "        \n",
    "        print(pd.Series(label_encoder.inverse_transform(y_train_fold)).value_counts())\n",
    "        print(pd.Series(label_encoder.inverse_transform(y_test_fold)).value_counts())\n",
    "        print(pd.Series(label_encoder.inverse_transform(clf.predict(x_test_fold))).value_counts())\n",
    "        print('\\n')\n",
    "        \n",
    "        cm = confusion_matrix(y_test_fold, clf.predict(x_test_fold), labels=clf.classes_)\n",
    "        disp = ConfusionMatrixDisplay(confusion_matrix=cm)\n",
    "        disp.plot()\n",
    "        plt.show()\n",
    "        \n",
    "        print(clf.score(x_test_fold, y_test_fold))\n",
    "        \n",
    "    print(f'mean accuracy: {mean(accuracy_all)}')\n",
    "\n",
    "    return clf, accuracy_all"
   ]
  },
  {
   "cell_type": "code",
   "execution_count": null,
   "id": "a35fdd27-33fc-4c82-a357-b1ed32b59014",
   "metadata": {
    "tags": []
   },
   "outputs": [],
   "source": [
    "from statistics import mean\n",
    "from sklearn.utils import class_weight\n",
    "from sklearn.model_selection import train_test_split\n",
    "\n",
    "def classify_SVM(X,y):\n",
    "    X = np.vstack(X)\n",
    "    \n",
    "    scaler = preprocessing.MinMaxScaler()\n",
    "    X_scaled = scaler.fit_transform(X)\n",
    "    # clf = SGDC(warm_start=True)\n",
    "    # clf = OneVsOneClassifier(SVC(class_weight='balanced')) #OneVsRestClassifier(MultinomialNB())#SVC())\n",
    "    clf = SVC(C=10, class_weight='balanced')\n",
    "    \n",
    "    X_train, X_test, y_train, y_test = train_test_split(X_scaled, y)\n",
    "\n",
    "    clf.fit(X_train, y_train)\n",
    "    accuracy_all = clf.score(X_test, y_test)\n",
    "\n",
    "    print(pd.Series(label_encoder.inverse_transform(y_train)).value_counts())\n",
    "    print(pd.Series(label_encoder.inverse_transform(y_test)).value_counts())\n",
    "    print(pd.Series(label_encoder.inverse_transform(clf.predict(X_test))).value_counts())\n",
    "    print('\\n')\n",
    "\n",
    "    cm = confusion_matrix(y_test, clf.predict(X_test), labels=clf.classes_)\n",
    "        \n",
    "    print(f'train accuracy: {clf.score(X_train, y_train)}')\n",
    "    print(f'test accuracy: {clf.score(X_test, y_test)}')\n",
    "\n",
    "    return clf, accuracy_all, cm"
   ]
  },
  {
   "cell_type": "code",
   "execution_count": null,
   "id": "70972567-2fbb-4bdd-8396-188a8e6fb5c5",
   "metadata": {
    "tags": []
   },
   "outputs": [],
   "source": [
    "# Right hemisphere\n",
    "clf_rh, accuracy_rh, cm = classify_SVM(X_rh, y_rh)"
   ]
  },
  {
   "cell_type": "code",
   "execution_count": 78,
   "id": "f4a03560-1239-4648-817c-b2998ccf63fa",
   "metadata": {
    "tags": []
   },
   "outputs": [
    {
     "name": "stdout",
     "output_type": "stream",
     "text": [
      "animal        448\n",
      "vehicle       268\n",
      "indoor        137\n",
      "food          111\n",
      "outdoor        93\n",
      "furniture      84\n",
      "appliance      32\n",
      "electronic     26\n",
      "person         18\n",
      "accessory      17\n",
      "sports         11\n",
      "kitchen         6\n",
      "Name: count, dtype: int64\n",
      "animal        169\n",
      "vehicle        84\n",
      "indoor         38\n",
      "food           38\n",
      "furniture      28\n",
      "outdoor        19\n",
      "appliance      15\n",
      "accessory       9\n",
      "electronic      6\n",
      "person          5\n",
      "sports          4\n",
      "kitchen         3\n",
      "Name: count, dtype: int64\n",
      "animal       197\n",
      "vehicle      105\n",
      "indoor        40\n",
      "food          36\n",
      "furniture     30\n",
      "outdoor        9\n",
      "appliance      1\n",
      "Name: count, dtype: int64\n",
      "\n",
      "\n",
      "train accuracy: 0.9976019184652278\n",
      "test accuracy: 0.6722488038277512\n"
     ]
    }
   ],
   "source": [
    "# Left hemisphere\n",
    "clf_lh, accuracy_lh, cm = classify_SVM(X_lh, y_lh)"
   ]
  },
  {
   "cell_type": "code",
   "execution_count": 80,
   "id": "c40fd0a8-0d76-4629-9e83-3d50937a0090",
   "metadata": {
    "tags": []
   },
   "outputs": [
    {
     "data": {
      "text/plain": [
       "{0: 'accessory',\n",
       " 1: 'animal',\n",
       " 2: 'appliance',\n",
       " 3: 'electronic',\n",
       " 4: 'food',\n",
       " 5: 'furniture',\n",
       " 6: 'indoor',\n",
       " 7: 'kitchen',\n",
       " 8: 'outdoor',\n",
       " 9: 'person',\n",
       " 10: 'sports',\n",
       " 11: 'vehicle'}"
      ]
     },
     "execution_count": 80,
     "metadata": {},
     "output_type": "execute_result"
    }
   ],
   "source": [
    "# Decoded labels\n",
    "decoded = label_encoder.inverse_transform(np.arange(12))\n",
    "label_dict = {i : decoded[i] for i in np.arange(12)}\n",
    "label_dict"
   ]
  },
  {
   "cell_type": "code",
   "execution_count": 88,
   "id": "43c24f24-2ea4-408e-aa99-ec8fc3675360",
   "metadata": {
    "tags": []
   },
   "outputs": [
    {
     "data": {
      "image/png": "[encoded data removed]",
      "text/plain": [
       "<Figure size 640x480 with 2 Axes>"
      ]
     },
     "metadata": {},
     "output_type": "display_data"
    }
   ],
   "source": [
    "# Normalize the confusion matrix to account for class imbalance (left hemisphere shown)\n",
    "norm_cm = np.round(cm / cm.astype(float).sum(axis=1),1)\n",
    "disp = ConfusionMatrixDisplay(confusion_matrix=norm_cm)\n",
    "disp.plot()\n",
    "plt.show()"
   ]
  }
 ],
 "metadata": {
  "kernelspec": {
   "display_name": "Python 3 (ipykernel)",
   "language": "python",
   "name": "python3"
  },
  "language_info": {
   "codemirror_mode": {
    "name": "ipython",
    "version": 3
   },
   "file_extension": ".py",
   "mimetype": "text/x-python",
   "name": "python",
   "nbconvert_exporter": "python",
   "pygments_lexer": "ipython3",
   "version": "3.10.11"
  }
 },
 "nbformat": 4,
 "nbformat_minor": 5
}
